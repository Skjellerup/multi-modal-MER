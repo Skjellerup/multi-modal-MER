{
 "cells": [
  {
   "attachments": {},
   "cell_type": "markdown",
   "metadata": {},
   "source": [
    "imports"
   ]
  },
  {
   "cell_type": "code",
   "execution_count": null,
   "metadata": {},
   "outputs": [],
   "source": [
    "import numpy as np\n",
    "import pandas as pd\n",
    "import matplotlib.pyplot as plt\n",
    "\n",
    "from sklearn.preprocessing import StandardScaler\n",
    "from sklearn.decomposition import PCA"
   ]
  },
  {
   "attachments": {},
   "cell_type": "markdown",
   "metadata": {},
   "source": [
    "load data"
   ]
  },
  {
   "cell_type": "code",
   "execution_count": null,
   "metadata": {},
   "outputs": [],
   "source": [
    "df = pd.read_csv(\"../data/multi_modal.csv\")"
   ]
  },
  {
   "cell_type": "code",
   "execution_count": null,
   "metadata": {},
   "outputs": [],
   "source": [
    "# Clean the string\n",
    "df[\"pca_tfidf\"] = df[\"pca_tfidf\"].str.strip(\"[]\\n\")\n",
    "split_values = df[\"pca_tfidf\"].str.split()\n",
    "\n",
    "# Convert the values to float and create new columns\n",
    "for i in range(50):\n",
    "    df[\"pca_tfidf\" + str(i)] = split_values.apply(lambda x: float(x[i]))\n",
    "df = df.drop(columns=[\"pca_tfidf\"])"
   ]
  },
  {
   "cell_type": "code",
   "execution_count": null,
   "metadata": {},
   "outputs": [],
   "source": [
    "audio_features = [\"danceability\", \"energy\", \"key\", \"loudness\", \"mode\", \"speechiness\",\n",
    "       \"acousticness\", \"instrumentalness\", \"liveness\", \"tempo\",\n",
    "       \"time_signature\"]\n",
    "lyric_features = [\"compound\",\"neg\", \"pos\", \"neu\", \"pca_tfidf0\", \"pca_tfidf1\", \"pca_tfidf2\",\n",
    "       \"pca_tfidf3\", \"pca_tfidf4\", \"pca_tfidf5\", \"pca_tfidf6\", \"pca_tfidf7\",\n",
    "       \"pca_tfidf8\", \"pca_tfidf9\", \"pca_tfidf10\", \"pca_tfidf11\", \"pca_tfidf12\",\n",
    "       \"pca_tfidf13\", \"pca_tfidf14\", \"pca_tfidf15\", \"pca_tfidf16\",\n",
    "       \"pca_tfidf17\", \"pca_tfidf18\", \"pca_tfidf19\", \"pca_tfidf20\",\n",
    "       \"pca_tfidf21\", \"pca_tfidf22\", \"pca_tfidf23\", \"pca_tfidf24\",\n",
    "       \"pca_tfidf25\", \"pca_tfidf26\", \"pca_tfidf27\", \"pca_tfidf28\",\n",
    "       \"pca_tfidf29\", \"pca_tfidf30\", \"pca_tfidf31\", \"pca_tfidf32\",\n",
    "       \"pca_tfidf33\", \"pca_tfidf34\", \"pca_tfidf35\", \"pca_tfidf36\",\n",
    "       \"pca_tfidf37\", \"pca_tfidf38\", \"pca_tfidf39\", \"pca_tfidf40\",\n",
    "       \"pca_tfidf41\", \"pca_tfidf42\", \"pca_tfidf43\", \"pca_tfidf44\",\n",
    "       \"pca_tfidf45\", \"pca_tfidf46\", \"pca_tfidf47\", \"pca_tfidf48\",\n",
    "       \"pca_tfidf49\"]\n",
    "ys = [\"valence\", \"arousal\"]\n",
    "ids = [\"artist\", \"name\"]"
   ]
  },
  {
   "cell_type": "code",
   "execution_count": null,
   "metadata": {},
   "outputs": [],
   "source": [
    "df = df[ids + audio_features + lyric_features + ys]\n",
    "df"
   ]
  },
  {
   "attachments": {},
   "cell_type": "markdown",
   "metadata": {},
   "source": [
    "Standardize data"
   ]
  },
  {
   "cell_type": "code",
   "execution_count": null,
   "metadata": {},
   "outputs": [],
   "source": [
    "scaler = StandardScaler()\n",
    "df[audio_features+lyric_features] = scaler.fit_transform(df[audio_features+lyric_features])"
   ]
  },
  {
   "cell_type": "code",
   "execution_count": null,
   "metadata": {},
   "outputs": [],
   "source": [
    "df.head()"
   ]
  },
  {
   "attachments": {},
   "cell_type": "markdown",
   "metadata": {},
   "source": [
    "PCA analysis"
   ]
  },
  {
   "cell_type": "code",
   "execution_count": null,
   "metadata": {},
   "outputs": [],
   "source": [
    "import matplotlib.pyplot as plt\n",
    "from sklearn.decomposition import PCA\n",
    "\n",
    "# Fit the PCA model\n",
    "pca = PCA()\n",
    "pca.fit(df[audio_features])\n",
    "\n",
    "# Get the explained variance ratio of each principal component\n",
    "explained_variance_ratio = pca.explained_variance_ratio_\n",
    "\n",
    "# Get the feature names\n",
    "feature_names = df[audio_features].columns\n",
    "\n",
    "# Get the principal component loadings\n",
    "loadings = pca.components_\n",
    "\n",
    "# Calculate the importance of each feature\n",
    "feature_importance = abs(loadings.T @ explained_variance_ratio)\n",
    "\n",
    "# Sort the feature importance and feature names in descending order\n",
    "sorted_indices = feature_importance.argsort()[::-1]\n",
    "sorted_feature_importance = feature_importance[sorted_indices]\n",
    "sorted_feature_names = feature_names[sorted_indices]\n",
    "\n",
    "# Visualize the importance of each feature using a bar plot\n",
    "plt.bar(range(len(sorted_feature_importance)), sorted_feature_importance)\n",
    "plt.xlabel('Feature Index')\n",
    "plt.ylabel('Feature Importance')\n",
    "plt.title('Importance of Each Feature')\n",
    "plt.xticks(range(len(sorted_feature_names)), sorted_feature_names, rotation=90)  # Set the x-axis ticks and labels\n",
    "plt.show()\n"
   ]
  },
  {
   "attachments": {},
   "cell_type": "markdown",
   "metadata": {},
   "source": [
    "output data"
   ]
  },
  {
   "cell_type": "code",
   "execution_count": null,
   "metadata": {},
   "outputs": [],
   "source": [
    "audio_features_top4 = list(sorted_feature_names[:4])\n",
    "audio_features_top9 = list(sorted_feature_names[:9])\n",
    "\n",
    "audio_features_top4, audio_features_top9"
   ]
  },
  {
   "cell_type": "code",
   "execution_count": null,
   "metadata": {},
   "outputs": [],
   "source": [
    "output_df = df[ids + audio_features + lyric_features + ys]"
   ]
  },
  {
   "cell_type": "code",
   "execution_count": null,
   "metadata": {},
   "outputs": [],
   "source": [
    "output_df.to_csv(\"../data/processed_multi_modal.csv\")"
   ]
  }
 ],
 "metadata": {
  "kernelspec": {
   "display_name": "Python 3",
   "language": "python",
   "name": "python3"
  },
  "language_info": {
   "codemirror_mode": {
    "name": "ipython",
    "version": 3
   },
   "file_extension": ".py",
   "mimetype": "text/x-python",
   "name": "python",
   "nbconvert_exporter": "python",
   "pygments_lexer": "ipython3",
   "version": "3.10.6"
  },
  "orig_nbformat": 4
 },
 "nbformat": 4,
 "nbformat_minor": 2
}
