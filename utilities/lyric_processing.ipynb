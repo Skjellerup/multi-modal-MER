{
 "cells": [
  {
   "cell_type": "code",
   "execution_count": null,
   "metadata": {
    "tags": []
   },
   "outputs": [],
   "source": [
    "import pandas as pd\n",
    "from nltk.sentiment import SentimentIntensityAnalyzer\n",
    "from sklearn.feature_extraction.text import TfidfVectorizer\n",
    "from nltk.tokenize import word_tokenize\n",
    "import nltk\n",
    "from nltk.corpus import stopwords\n",
    "nltk.download(\"stopwords\")\n",
    "nltk.download()"
   ]
  },
  {
   "cell_type": "code",
   "execution_count": null,
   "metadata": {
    "tags": []
   },
   "outputs": [],
   "source": [
    "# loads lyrics data from json file\n",
    "file = open(\"lyrics.json\")\n",
    "raw_text = file.read()\n",
    "file.close()\n",
    "lst = raw_text.split(\"}\\n{\")\n",
    "new_raw_text = \",\".join(lst)\n",
    "\n",
    "df = pd.read_json(new_raw_text, orient=\"index\")\n",
    "df[\"key\"] = df.index  # Create a new column \"key\" and assign the current index values\n",
    "df[[\"artist\", \"name\"]] = df[\"key\"].str.split(\"_\", 1, expand=True)  # Split the \"key\" column into \"artist\" and \"song-name\"\n",
    "column_names = list(df.columns)\n",
    "column_names[0] = \"lyrics\"\n",
    "df.columns = column_names\n",
    "df = df.reset_index(drop=True)\n",
    "df = df[[\"artist\", \"name\", \"lyrics\"]]\n",
    "\n",
    "# declutters the lyrics\n",
    "# - removes the Contributor(s) noise\n",
    "# - removes noise between square brackets\n",
    "# - removes all non-alphanumeric characters (including white space and \"!|?\")\n",
    "# - converts all characters to lowercase\n",
    "df[\"decluttered_lyrics\"] = df[\"lyrics\"]\\\n",
    "    .str.replace(r\".*Contributors\", \"\", regex=True)\\\n",
    "    .str.replace(r\".*Contributor\", \"\", regex=True)\\\n",
    "    .str.replace(r\"\\[.*?\\]\", \"\", regex=True)\\\n",
    "    .str.replace(r\"[^A-Za-z0-9\\s!?]\", \"\")\\\n",
    "    .str.lower()\n",
    "df"
   ]
  },
  {
   "cell_type": "code",
   "execution_count": null,
   "metadata": {
    "tags": []
   },
   "outputs": [],
   "source": [
    "# tokenize words\n",
    "df[\"tokens\"] = df[\"decluttered_lyrics\"].str.replace(r\"[^a-z\\s]\", \"\").apply(lambda x: word_tokenize(x))"
   ]
  },
  {
   "cell_type": "code",
   "execution_count": null,
   "metadata": {
    "tags": []
   },
   "outputs": [],
   "source": [
    "# remove stopwords\n",
    "def remove_stopwords(tokens):\n",
    "    stop_words = set(stopwords.words(\"english\"))\n",
    "    filtered_tokens = [word for word in tokens if word.lower() not in stop_words]\n",
    "    return filtered_tokens\n",
    "\n",
    "df[\"filtered_tokens\"] = df[\"tokens\"].apply(remove_stopwords)"
   ]
  },
  {
   "cell_type": "code",
   "execution_count": null,
   "metadata": {
    "tags": []
   },
   "outputs": [],
   "source": [
    "# j the filtered tokens back into sentences\n",
    "df[\"filtered_text\"] = df[\"filtered_tokens\"].apply(lambda tokens: \" \".join(tokens))"
   ]
  },
  {
   "cell_type": "code",
   "execution_count": null,
   "metadata": {
    "tags": []
   },
   "outputs": [],
   "source": [
    "# sentiment analysis\n",
    "sia = SentimentIntensityAnalyzer()\n",
    "df[\"sentiment_scores\"] = df[\"filtered_text\"].apply(lambda x: sia.polarity_scores(x))\n",
    "df = pd.concat([df.drop([\"sentiment_scores\"], axis=1), df[\"sentiment_scores\"].apply(pd.Series)], axis=1) # make sentiment scores into columns"
   ]
  },
  {
   "cell_type": "code",
   "execution_count": null,
   "metadata": {
    "tags": []
   },
   "outputs": [],
   "source": [
    "# tfidf analysis \n",
    "tfidf = TfidfVectorizer()\n",
    "df[\"tfidf\"] = list(tfidf.fit_transform(df[\"filtered_text\"]).toarray())"
   ]
  },
  {
   "cell_type": "code",
   "execution_count": null,
   "metadata": {},
   "outputs": [],
   "source": [
    "df"
   ]
  }
 ],
 "metadata": {
  "kernelspec": {
   "display_name": "Python 3 (ipykernel)",
   "language": "python",
   "name": "python3"
  },
  "language_info": {
   "codemirror_mode": {
    "name": "ipython",
    "version": 3
   },
   "file_extension": ".py",
   "mimetype": "text/x-python",
   "name": "python",
   "nbconvert_exporter": "python",
   "pygments_lexer": "ipython3",
   "version": "3.10.10"
  }
 },
 "nbformat": 4,
 "nbformat_minor": 4
}
